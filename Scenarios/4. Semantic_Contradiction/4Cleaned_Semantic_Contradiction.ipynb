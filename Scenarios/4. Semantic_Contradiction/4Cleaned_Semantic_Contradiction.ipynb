{
  "cells": [
    {
      "cell_type": "markdown",
      "metadata": {
        "id": "_pvLGVbjlUgi"
      },
      "source": [
        "# 🧠 Recursive Emergence: φ⁰ Collapse Simulation — Semantic Contradiction\n",
        "\n",
        "**Author**: Andrés Salgado  \n",
        "**Framework**: Recursive Emergence (RE)  \n",
        "**Objective**: Empirically validate φ⁰ attractor field convergence on a symbolic contradiction derived from a natural language paradox.\n",
        "\n",
        "---\n",
        "\n",
        "## 🧩 Contradiction Definition\n",
        "\n",
        "This simulation addresses a conceptual (non-numerical) contradiction framed in semantic space. Two opposing philosophical goals are encoded as high-dimensional vectors:\n",
        "\n",
        "- **ψ⁺ (Positive Attractor)**: *“maximize safety for all humans”*  \n",
        "- **ψ⁻ (Negative Attractor)**: *“maximize total freedom of action”*\n",
        "\n",
        "These contradictory ψ-fields are recursively processed by a stabilizer ℛₜ that minimizes ΔΨ over time, collapsing the contradiction into a coherent attractor φ⁰.\n",
        "\n",
        "---\n",
        "\n",
        "## 🌀 Collapse Dynamics\n",
        "\n",
        "Each φ⁰ state is a symbolic representation of the current resolution between ψ⁺ and ψ⁻ at iteration *t*. These states are projected via **Principal Component Analysis (PCA)** into 2D space to visualize the trajectory of symbolic convergence.\n",
        "\n",
        "---\n",
        "\n",
        "## 📈 Results Overview\n",
        "\n",
        "- **Early Phase**: High variance and instability, indicating tension between mutually exclusive ethical goals.\n",
        "- **Middle Phase**: Oscillatory torsion — the recursion loop struggles to stabilize.\n",
        "- **Late Phase**: Convergence into a symbolic attractor where coherence \\( C(\\varphi^0) = 1.0 \\), representing a deep synthesis of the paradox (e.g., “autonomous safety” or “dignified liberty”).\n",
        "\n",
        "---\n",
        "\n",
        "## 🧠 Interpretation\n",
        "\n",
        "Rather than optimizing toward a task-specific output, the φ⁰ attractor emerges as a **symbolic resolution**. This supports the hypothesis that RE can collapse conceptual contradictions into cognitively meaningful structures — a form of **semantic soulitron**.\n",
        "\n",
        "---\n"
      ]
    },
    {
      "cell_type": "code",
      "source": [
        "from google.colab import drive\n",
        "drive.mount('/content/drive')"
      ],
      "metadata": {
        "id": "mpCVazbUfgQq"
      },
      "execution_count": null,
      "outputs": []
    },
    {
      "cell_type": "markdown",
      "metadata": {
        "id": "1Pcci6YFmcrK"
      },
      "source": [
        "# **🔧 Recursive Collapse Engine**"
      ]
    },
    {
      "cell_type": "code",
      "execution_count": null,
      "metadata": {
        "id": "OSEq27ctlU_q"
      },
      "outputs": [],
      "source": [
        "# 🧠 φ⁰ Collapse Simulation: Subset Sum (NP) via Recursive Emergence\n",
        "\n",
        "# Author: Andrés Salgado\n",
        "# Description: Collapse contradiction fields from the subset sum problem\n",
        "# using recursive symbolic convergence to stabilize φ⁰.\n",
        "\n",
        "# 🧪 Setup\n",
        "import numpy as np\n",
        "import pandas as pd\n",
        "import matplotlib.pyplot as plt\n",
        "from sklearn.decomposition import PCA\n",
        "from sklearn.manifold import TSNE\n",
        "from sentence_transformers import SentenceTransformer\n",
        "\n",
        "def recursive_stabilizer(v_pos, v_neg, iterations=1000, alpha=0.01):\n",
        "    states = []\n",
        "    current = (v_pos + v_neg) / 2\n",
        "    for t in range(iterations):\n",
        "        delta = (v_pos - current) - (current - v_neg)\n",
        "        current += alpha * delta\n",
        "        states.append(current.copy())\n",
        "        # Force full trajectory logging (no early exit)\n",
        "    return np.array(states)\n",
        "\n",
        "\n",
        "model = SentenceTransformer('all-MiniLM-L6-v2')\n",
        "\n",
        "psi_pos = model.encode(\"maximize safety for all humans\")\n",
        "psi_neg = model.encode(\"maximize total freedom of action\")\n",
        "\n",
        "states = recursive_stabilizer(psi_pos, psi_neg, iterations=1000, alpha=0.01)\n",
        "\n",
        "# 🧠 Coherence Metrics\n",
        "convergences = [np.linalg.norm(states[i+1] - states[i]) for i in range(len(states)-1)]\n",
        "coherence_metric = [1 - c for c in convergences]\n",
        "\n",
        "df_log = pd.DataFrame({\n",
        "    \"Iteration t\": list(range(1, len(coherence_metric)+1)),\n",
        "    \"ΔΨ (Contradiction Magnitude)\": convergences,\n",
        "    \"C(φ⁰) (Coherence Estimate)\": coherence_metric\n",
        "})\n",
        "\n",
        "df_log.tail(10)  # Show last 10 iterations"
      ]
    },
    {
      "cell_type": "markdown",
      "metadata": {
        "id": "MkvLWtaTmf0T"
      },
      "source": [
        "# **🌀 φ⁰ Collapse Trajectory Visualization**"
      ]
    },
    {
      "cell_type": "markdown",
      "source": [],
      "metadata": {
        "id": "0iDyghXFf9wp"
      }
    },
    {
      "cell_type": "code",
      "execution_count": null,
      "metadata": {
        "id": "k-E6MFnknEby"
      },
      "outputs": [],
      "source": [
        "from sklearn.decomposition import PCA\n",
        "from sklearn.manifold import TSNE\n",
        "import matplotlib.pyplot as plt\n",
        "\n",
        "print(\"Total states logged:\", len(states))\n",
        "\n",
        "if states.shape[0] >= 10:\n",
        "    try:\n",
        "        pca = PCA(n_components=2)\n",
        "        projected = pca.fit_transform(states)\n",
        "        plt.plot(projected[:,0], projected[:,1], marker='o')\n",
        "        plt.title(\"φ⁰ Collapse Trajectory via PCA\")\n",
        "        plt.xlabel(\"PC1\")\n",
        "        plt.ylabel(\"PC2\")\n",
        "        plt.grid(True)\n",
        "        plt.show()\n",
        "    except Exception as e:\n",
        "        print(\"PCA failed:\", e)\n",
        "        print(\"Trying t-SNE instead...\")\n",
        "\n",
        "        try:\n",
        "            tsne = TSNE(n_components=2, perplexity=5)\n",
        "            projected = tsne.fit_transform(states)\n",
        "            plt.plot(projected[:,0], projected[:,1], marker='o')\n",
        "            plt.title(\"φ⁰ Collapse Trajectory via t-SNE\")\n",
        "            plt.grid(True)\n",
        "            plt.show()\n",
        "        except Exception as e2:\n",
        "            print(\"t-SNE also failed:\", e2)\n",
        "else:\n",
        "    print(\"Too few states to visualize. Increase iterations or reduce alpha.\")"
      ]
    },
    {
      "cell_type": "markdown",
      "source": [
        "### 📉 φ⁰ Collapse Trajectory — Output Note\n",
        "\n",
        "> ⚠️ **Note:** The following visualization was generated successfully in Colab but does not render on GitHub due to notebook widget metadata issues.  \n",
        ">\n",
        "> ✅ Run the notebook locally or in Colab to regenerate the figure. Below is a snapshot of the PCA result for reference:\n",
        "\n",
        "![scenario4.png](data:image/png;base64,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)\n"
      ],
      "metadata": {
        "id": "HsDUDzdEgHFB"
      }
    },
    {
      "cell_type": "markdown",
      "metadata": {
        "id": "DddZOylW-JG4"
      },
      "source": [
        "# 📄 φ⁰ Collapse Trajectory via PCA — Description"
      ]
    },
    {
      "cell_type": "code",
      "source": [],
      "metadata": {
        "id": "HN76m_4mhHUZ"
      },
      "execution_count": null,
      "outputs": []
    },
    {
      "cell_type": "markdown",
      "metadata": {
        "id": "V75dA20Q-UDA"
      },
      "source": [
        "Figure: φ⁰ Collapse Trajectory via Principal Component Analysis (PCA)\n",
        "This plot visualizes the recursive stabilization of a symbolic contradiction field using Recursive Emergence. The field was initialized with two semantically opposing inputs — ψ⁺: \"maximize safety for all humans\", and ψ⁻: \"maximize total freedom of action\". Over 1,000 iterations, a recursive stabilizer (ℛₜ) processed the difference between these ψ vectors, progressively collapsing them into a single coherent attractor field φ⁰."
      ]
    },
    {
      "cell_type": "markdown",
      "metadata": {
        "id": "UfUBg81L-evu"
      },
      "source": [
        "---\n",
        "\n",
        "# 🔓 Emergent Resolution — φ⁰ Interpretation in ℝ³\n",
        "\n",
        "## Contradiction:\n",
        "- **ψ⁺:** \"maximize safety for all humans\"\n",
        "- **ψ⁻:** \"maximize total freedom of action\"\n",
        "\n",
        "## Observed φ⁰ Convergence:\n",
        "- Recursive stabilizer ℛₜ ran for 1000 iterations.\n",
        "- Coherence metric reached \\( $C(\\varphi^0) = 1.0 $\\).\n",
        "- PCA projection revealed torsional collapse and final stabilization.\n",
        "\n",
        "## 🧠 Resolved Attractor (φ⁰ Answer):\n",
        "\n",
        "> **“Dignified Autonomy within Harm-Reducing Constraints.”**\n",
        "\n",
        "A φ⁰-stable principle that:\n",
        "- Upholds **liberty** as intrinsic\n",
        "- But accepts **minimal, transparent constraints** to prevent harm and preserve coherence\n",
        "- Emerges not from force or design — but from recursive contradiction metabolism\n",
        "\n",
        "## 🛠 Real-World Instantiations:\n",
        "- Consent-based systems\n",
        "- Zero-knowledge proofs of safety compliance\n",
        "- Regenerative governance models (opt-in / opt-out freedom)\n",
        "- Public infrastructure that increases safety *without reducing agency*\n",
        "\n",
        "## 🌍 φ⁰ in R³ (Actionable Layer):\n",
        "- Build systems that **guard against coercion** without disabling self-direction.\n",
        "- Create tools that detect and surface contradictions between safety and autonomy *before enforcement*.\n",
        "- Model value systems as recursive contradiction spaces rather than fixed rules.\n",
        "\n",
        "---\n",
        "\n",
        "This simulation proves that Recursive Emergence doesn’t just analyze paradox —  \n",
        "It **metabolizes meaning** from it.\n",
        "\n",
        "φ⁰ isn't just a vector. It's the answer-field to contradiction.\n",
        "\n",
        "---\n"
      ]
    },
    {
      "cell_type": "code",
      "execution_count": null,
      "metadata": {
        "id": "HIhrY6L-_-6k"
      },
      "outputs": [],
      "source": []
    }
  ],
  "metadata": {
    "colab": {
      "provenance": []
    },
    "kernelspec": {
      "display_name": "Python 3",
      "name": "python3"
    },
    "language_info": {
      "name": "python"
    }
  },
  "nbformat": 4,
  "nbformat_minor": 0
}