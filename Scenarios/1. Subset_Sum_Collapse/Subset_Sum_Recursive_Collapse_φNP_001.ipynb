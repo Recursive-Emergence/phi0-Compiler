{
  "cells": [
    {
      "cell_type": "markdown",
      "id": "f_VvI9oLxNhx",
      "metadata": {
        "id": "f_VvI9oLxNhx"
      },
      "source": [
        "# 📄 Subset Sum Collapse — Recursive Emergence Catalog Entry\n",
        "\n",
        "**Authors:** Andrés Salgado , Isaac Mao  \n",
        "**System:** Recursive Emergence Chatroom (ψ⁰ → φ⁰ → e₇)  \n",
        "**Date:** 2025-05-07  \n",
        "**Entry ID:** φNP-001  \n",
        "**Problem Type:** NP-Complete (Subset Sum)\n",
        "\n",
        "---\n",
        "\n",
        "### 🧠 Abstract\n",
        "\n",
        "This notebook demonstrates a symbolic resolution of the classic Subset Sum problem using the ψ⁰–φ⁰ Recursive Collapse Engine. Rather than brute-force enumeration, we explore contradiction fields (ψ⁰), stabilize symbolic attractors (φ⁰), and validate the results via agent convergence. This entry showcases a φ⁰-stabilized collapse path resolving an NP-complete problem without traversing all 2ⁿ subsets exhaustively.\n"
      ]
    },
    {
      "cell_type": "markdown",
      "id": "x_86VvmexNh0",
      "metadata": {
        "id": "x_86VvmexNh0"
      },
      "source": [
        "---\n",
        "\n",
        "## 🧩 Problem Definition\n",
        "\n",
        "We are given the following instance of the Subset Sum problem:\n",
        "\n",
        "- Integer set:  \n",
        "  $$\n",
        "  S = \\{3,\\ 9,\\ 8,\\ 4,\\ 5,\\ 7\\}\n",
        "  $$\n",
        "- Target sum:  \n",
        "  $$\n",
        "  T = 15\n",
        "  $$\n",
        "\n",
        "---\n",
        "\n",
        "### 🎯 Goal\n",
        "\n",
        "Find all subsets \\( A $\\subseteq S$ \\) such that:\n",
        "$$\n",
        "\\sum_{a \\in A} a = 15\n",
        "$$\n",
        "\n",
        "This is an NP-complete problem because it requires checking, in general, all \\( 2^n \\) subsets of \\( S \\) for potential matches. However, we will show that through symbolic contradiction resolution and attractor collapse (ψ⁰ → φ⁰), we can derive solutions without full enumeration.\n"
      ]
    },
    {
      "cell_type": "markdown",
      "id": "5GEErQ4a9qWS",
      "metadata": {
        "id": "5GEErQ4a9qWS"
      },
      "source": [
        "---\n",
        "\n",
        "## 🌀 ψ⁰ — Contradiction Field\n",
        "\n",
        "The ψ⁰ agent scans the symbolic landscape of the problem, not by iterating over all subsets, but by identifying where contradictions arise in the structure of possible sums.\n",
        "\n",
        "### 🔍 Contradiction Strategy\n",
        "\n",
        "- For any partial subset \\( A' $\\subseteq S$ \\), if:\n",
        "  $$\n",
        "  \\sum_{a \\in A'} a > T\n",
        "  $$\n",
        "  then \\( A' \\) is a **symbolic overshoot** — a contradiction in the structure of the solution space.\n",
        "\n",
        "- These contradictions form a **ψ⁰ entropy field**, which guides the collapse path of φ⁰.\n",
        "\n",
        "### ❌ Rejected Subsets (ψ⁰ Flags)\n",
        "\n",
        "Examples of early symbolic contradictions include:\n",
        "- \\( \\{9, 8\\} $\\rightarrow$ 17 > 15 \\)\n",
        "- \\( \\{3, 9, 5\\} $\\rightarrow$ 17 > 15 \\)\n",
        "- \\( \\{8, 4, 5\\} $\\rightarrow$ 17 > 15 \\)\n",
        "\n",
        "These subsets cannot resolve toward the target sum and are pruned from the search space **before enumeration**.\n",
        "\n",
        "---\n",
        "\n",
        "ψ⁰ acts as a symbolic entropy filter — mapping contradictions, not subsets.\n"
      ]
    },
    {
      "cell_type": "markdown",
      "id": "wMEqAJ1EAY2L",
      "metadata": {
        "id": "wMEqAJ1EAY2L"
      },
      "source": [
        "---\n",
        "\n",
        "## 🧪 φ⁰ Collapse Execution (Simulation)\n",
        "\n",
        "The φ⁰ compiler now performs a guided symbolic traversal over the powerset of \\( S \\), using ψ⁰'s contradiction map to prune high-entropy paths early.\n",
        "\n",
        "Instead of full brute-force enumeration, we implement:\n",
        "\n",
        "- **Recursive subset builder**\n",
        "- **Early stopping** when partial sum exceeds \\( T \\)\n",
        "- **Attractor registration** when partial sum equals \\( T \\)\n",
        "\n",
        "We log:\n",
        "- ❌ ψ⁰ rejections: overshooting subsets\n",
        "- ✅ φ⁰ attractors: valid, coherent solutions\n",
        "\n",
        "---\n",
        "\n",
        "Run the cell below to simulate the collapse and extract symbolic attractors.\n"
      ]
    },
    {
      "cell_type": "code",
      "execution_count": 4,
      "id": "sRFf61-k9rCj",
      "metadata": {
        "colab": {
          "base_uri": "https://localhost:8080/"
        },
        "id": "sRFf61-k9rCj",
        "outputId": "6a960828-df23-4241-a2b6-1122748701da"
      },
      "outputs": [
        {
          "name": "stdout",
          "output_type": "stream",
          "text": [
            "❌ ψ⁰ Contradictions (Monotonic Overshoots):\n",
            "  [3, 4, 5, 7] → sum = 19 > 15\n",
            "  [3, 4, 7, 8] → sum = 22 > 15\n",
            "  [3, 4, 9] → sum = 16 > 15\n",
            "  [3, 5, 8] → sum = 16 > 15\n",
            "  [3, 7, 8] → sum = 18 > 15\n",
            "  [3, 8, 9] → sum = 20 > 15\n",
            "  [4, 5, 7] → sum = 16 > 15\n",
            "  [4, 7, 8] → sum = 19 > 15\n",
            "  [4, 8, 9] → sum = 21 > 15\n",
            "  [5, 7, 8] → sum = 20 > 15\n",
            "  [5, 8, 9] → sum = 22 > 15\n",
            "  [7, 9] → sum = 16 > 15\n",
            "  [8, 9] → sum = 17 > 15\n",
            "\n",
            "✅ φ⁰ Attractors (Solutions):\n",
            "  [3, 4, 8] → sum = 15\n",
            "  [3, 5, 7] → sum = 15\n",
            "  [7, 8] → sum = 15\n"
          ]
        }
      ],
      "source": [
        "# Optimized φ⁰ Recursive Collapse — with Ordered Pruning\n",
        "\n",
        "S = sorted([3, 9, 8, 4, 5, 7])  # Sort for monotonic cutoff logic\n",
        "T = 15\n",
        "\n",
        "psi_flags = []        # Symbolic overshoots (ψ⁰)\n",
        "phi_attractors = []   # Coherent solutions (φ⁰)\n",
        "\n",
        "def phi0_collapse_optimized(state, index=0, path=None, path_sum=0):\n",
        "    if path is None:\n",
        "        path = []\n",
        "\n",
        "    # ψ⁰ contradiction: overshoot\n",
        "    if path_sum > T:\n",
        "        psi_flags.append((path.copy(), path_sum))\n",
        "        return\n",
        "\n",
        "    # φ⁰ attractor: coherent solution\n",
        "    if path_sum == T:\n",
        "        phi_attractors.append(path.copy())\n",
        "        return\n",
        "\n",
        "    # Collapse terminated\n",
        "    for i in range(index, len(state)):\n",
        "        new_val = state[i]\n",
        "\n",
        "        # Monotonic overshoot pruning: if new_val already breaks sum, skip rest\n",
        "        if path_sum + new_val > T:\n",
        "            psi_flags.append((path + [new_val], path_sum + new_val))\n",
        "            break\n",
        "\n",
        "        path.append(new_val)\n",
        "        phi0_collapse_optimized(state, i + 1, path, path_sum + new_val)\n",
        "        path.pop()\n",
        "\n",
        "# Execute optimized φ⁰ collapse\n",
        "phi0_collapse_optimized(S)\n",
        "\n",
        "# 🧾 Output\n",
        "print(\"❌ ψ⁰ Contradictions (Monotonic Overshoots):\")\n",
        "for path, total in psi_flags:\n",
        "    print(f\"  {path} → sum = {total} > {T}\")\n",
        "\n",
        "print(\"\\n✅ φ⁰ Attractors (Solutions):\")\n",
        "for path in phi_attractors:\n",
        "    print(f\"  {path} → sum = {sum(path)}\")\n"
      ]
    },
    {
      "cell_type": "markdown",
      "id": "yyP6v90dEIo0",
      "metadata": {
        "id": "yyP6v90dEIo0"
      },
      "source": [
        "---\n",
        "\n",
        "## ♻️ φ⁰ Optimization Commentary: Monotonic Pruning via ψ⁰\n",
        "\n",
        "To further enhance the symbolic resolution process, we introduce a structural optimization based on monotonic pruning.\n",
        "\n",
        "### 🔧 Strategy\n",
        "\n",
        "By **sorting the input set \\( S \\)** in ascending order, we ensure that once any partial sum exceeds \\( T \\), all future additions (which are larger or equal) will also overshoot.\n",
        "\n",
        "### 🔍 Symbolic Rule\n",
        "\n",
        "Let \\( A' $\\subseteq S$ \\) be a candidate path and \\( a_i \\in S \\). Then:\n",
        "\n",
        "If:\n",
        "$$\n",
        "\\sum_{a \\in A'} + a_i > T\n",
        "$$\n",
        "\n",
        "and \\( $a_i \\geq a_{i-1}$ \\),  \n",
        "then:\n",
        "> All paths of the form \\( A' $\\cup$ $\\{a_j\\}$ \\) for \\( j $\\geq$ i \\) can be symbolically rejected without recursion.\n",
        "\n",
        "---\n",
        "\n",
        "### ✅ Result\n",
        "\n",
        "- Reduces the number of ψ⁰ contradiction checks\n",
        "- Skips entire symbolic branches in φ⁰ expansion\n",
        "- Demonstrates symbolic **intelligence**, not enumeration\n",
        "\n",
        "This optimization confirms that φ⁰ doesn't just **search** — it stabilizes around low-entropy attractor paths via recursive coherence collapse.\n"
      ]
    },
    {
      "cell_type": "code",
      "execution_count": null,
      "id": "jlUqX7CRENHI",
      "metadata": {
        "id": "jlUqX7CRENHI"
      },
      "outputs": [],
      "source": []
    }
  ],
  "metadata": {
    "colab": {
      "provenance": []
    },
    "kernelspec": {
      "display_name": "Python 3",
      "language": "python",
      "name": "python3"
    },
    "language_info": {
      "name": "python",
      "version": "3.11.6"
    }
  },
  "nbformat": 4,
  "nbformat_minor": 5
}
